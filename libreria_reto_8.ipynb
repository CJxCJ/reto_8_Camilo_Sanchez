{
 "cells": [
  {
   "cell_type": "markdown",
   "metadata": {},
   "source": [
    "1. Imprimir un listado con los números del 1 al 100 cada uno con su respectivo cuadrado."
   ]
  },
  {
   "cell_type": "code",
   "execution_count": null,
   "metadata": {},
   "outputs": [],
   "source": [
    "#se determina el rango del ciclo\n",
    "for x in range(1, 101):\n",
    "    #se define la funcion cuadrado\n",
    "    cuadrado = x**2\n",
    "    #se imprime el valor x y su respectivo cuadrado hasta que se acabe el ciclo\n",
    "    print(x, cuadrado, sep=\" , \")\n"
   ]
  },
  {
   "cell_type": "markdown",
   "metadata": {},
   "source": [
    "2. Imprimir un listado con los números impares desde 1 hasta 999 y seguidamente otro listado con los números pares desde 2 hasta 1000."
   ]
  },
  {
   "cell_type": "code",
   "execution_count": null,
   "metadata": {},
   "outputs": [],
   "source": [
    "#simplemente se determina incio y fin de el ciclo y los valores que salta\n",
    "for y in range(1, 1000, 2):\n",
    "    #se imprime el listado\n",
    "    print(y)\n",
    "#se repite el mismo proceso cambiando los valores de inicio y final del ciclo\n",
    "for x in range(2, 1001, 2):\n",
    "    print(x)\n"
   ]
  },
  {
   "cell_type": "markdown",
   "metadata": {},
   "source": [
    "3. Imprimir los números pares en forma descendente hasta 2 que son menores o iguales a un número natural n ≥ 2 dado"
   ]
  },
  {
   "cell_type": "code",
   "execution_count": null,
   "metadata": {},
   "outputs": [],
   "source": [
    "#se pide que se ingrese un valor x\n",
    "x = float(input(\"Ingrese un número: \"))\n",
    "\n",
    "#se determina incio y fin de el ciclo y los valores que resta\n",
    "for i in range(int(x), 1, -1):\n",
    "    #si la condicion de que el modulo de i entre 2 es 0 (es decir par) imprime el numero\n",
    "    if i % 2 == 0:\n",
    "        print(i)\n",
    "    #de lo contrario sigue el ciclo hasta terminarlo\n",
    "    else:\n",
    "        continue\n"
   ]
  },
  {
   "cell_type": "markdown",
   "metadata": {},
   "source": [
    "4. Imprimir los números de 1 hasta un número natural n dado, cada uno con su respectivo factorial"
   ]
  },
  {
   "cell_type": "code",
   "execution_count": null,
   "metadata": {},
   "outputs": [],
   "source": [
    "# se define la variable factorial para generar un conteo\n",
    "factorial = 1\n",
    "#se pide que se ingrese un numero entero x\n",
    "x = int(input(\"Introduzca el número: \"))\n",
    "#se determina un ciclo de 1 a x + 1\n",
    "for i in range(1, x + 1):\n",
    "    #se muntiplica la variable factorial por el valor de la lista\n",
    "    factorial *= i\n",
    "#se imprime el resultado de la variable factorial para cuando acabe el ciclo\n",
    "print(\"El factorial de \" + str(x) + \" es \" + str(factorial))\n"
   ]
  },
  {
   "cell_type": "markdown",
   "metadata": {},
   "source": [
    "5. Calcular el valor de 2 elevado a la potencia n usando ciclos for."
   ]
  },
  {
   "cell_type": "code",
   "execution_count": null,
   "metadata": {},
   "outputs": [],
   "source": [
    "#se pide que ingrese un numero entero x\n",
    "x = int(input(\"ingrese un numero: \"))\n",
    "#se define la variable cuadrado para generar el conteo\n",
    "cuadrado = 1\n",
    "#el ciclo de i por el valor dado \n",
    "for i in range(x):\n",
    "  #se multiplica por 2 la cantidad de veces que requiera el ciclo\n",
    "  cuadrado *= 2\n",
    "#imprime el resultado que seria 2 ^ al numero x\n",
    "print(str(cuadrado))"
   ]
  },
  {
   "cell_type": "markdown",
   "metadata": {},
   "source": [
    "6. Leer un número natural n, leer otro dato de tipo real x y calcular x^n usando ciclos for. Disclaimer: Trate de no utilizar el operador de potencia (**)."
   ]
  },
  {
   "cell_type": "code",
   "execution_count": null,
   "metadata": {},
   "outputs": [],
   "source": [
    "#se define la funcion potencia donde en el rango de y se multiplica la variable pot por x\n",
    "def potencia(x:float, y:int):\n",
    "    pot = 1.0\n",
    "    for _ in range(y):\n",
    "        pot *= x\n",
    "    return pot\n",
    "#se pide que ingrese un numero x real para la base de la potencia\n",
    "x = float(input(\"ingrese un numero para la base: \"))\n",
    "#se pide que ingrese un numero y entero para el exponente de la potencia\n",
    "y = int(input(\"ingrese otro numero para el exponente: \"))\n",
    "#el condicional decalra que si estos numeros son iguales o menores a 0 no se puede operar\n",
    "if y < 0:\n",
    "  print(\"los numeros deben ser reales mayores a 0\")\n",
    "#sino se opera los dos numeros\n",
    "else:\n",
    "  pot = potencia(x, y)\n",
    "  print(\"El resultado de \" + str(x)+ \" elevado a la \" + str(y) + \" es \" + str(pot))\n"
   ]
  },
  {
   "cell_type": "markdown",
   "metadata": {},
   "source": [
    "7. Diseñe un programa que muestre las tablas de multiplicar del 1 al 9."
   ]
  },
  {
   "cell_type": "code",
   "execution_count": null,
   "metadata": {},
   "outputs": [],
   "source": [
    "#se genera un ciclo del 1 al 9 (ya que el 10 no lo cuenta) para la tabla de multiplicar\n",
    "for i in range(1, 10):\n",
    "    #imprime el mensaje especificando que tabla es\n",
    "    print(\"Tabla de multiplicar del: \" + str(i))\n",
    "    #se genera otro ciclo para los valores de la tabla de 1 al 10\n",
    "    for j in range(1, 11):\n",
    "        #se define que es la tabla\n",
    "        tabla = i * j\n",
    "        #se imprime la multiplicacion de el valor correnpondiente de i y j en ese momento y el resultado\n",
    "        print(str(i) + \" x \" + str(j) + \" = \" + str(tabla))\n",
    "    #se repite hasta que acabe el primer ciclo (i)    \n",
    "    print()\n"
   ]
  },
  {
   "cell_type": "markdown",
   "metadata": {},
   "source": [
    "8. Diseñar una función que permita calcular una aproximación de la función exponencial alrededor de 0 para cualquier valor x (real), utilizando los primeros n términos de la serie de Maclaurin. Nota: use math para traer la función exponencial y mostrar la diferencia entre el valor real y la aproximación."
   ]
  },
  {
   "cell_type": "code",
   "execution_count": null,
   "metadata": {},
   "outputs": [],
   "source": [
    "import math\n",
    "\n",
    "#definimos una funcion para la aproximacion \n",
    "def aprox_exp(x, y):\n",
    "    aprox = 0\n",
    "    valor = math.exp(x)\n",
    "    #definimos el 0.1% de error\n",
    "    error = 0.001  \n",
    "\n",
    "    \n",
    "    #operamos x elevado al valor del rango divido el factorial de de este mismo\n",
    "    for i in range(y):\n",
    "        termino = (x ** i) / math.factorial(i)\n",
    "        aprox += termino\n",
    "        #si el valor absoluto del termino es menor al 0.1% de error \n",
    "        if abs(termino) < error:\n",
    "            #devuelve la aproximación y el valor de y\n",
    "            return aprox, i + 1  \n",
    "\n",
    "    return aprox, y\n",
    "\n",
    "#pide que se ingrese un numero x\n",
    "x = float(input(\"Ingrese el valor de x: \"))\n",
    "\n",
    "y = 1\n",
    "#el sciclo se define que mientras sea cierto\n",
    "while True:\n",
    "    #llamamos la funcion\n",
    "    aprox, y_aprox = aprox_exp(x, y)\n",
    "    #si el valor de aprox no coincide con ninguno rompe el ciclo \n",
    "    if aprox is not None:\n",
    "        break\n",
    "    y += 1\n",
    "\n",
    "print(\"Aproximación de e ^\"  + str(x) + \": \" + str(aprox))\n",
    "print(\"Valor real de e ^\" + str(x) + \": \" + str(math.exp(x)))\n",
    "print(f\"Diferencia entre la aproximación y el valor real: {abs(aprox - math.exp(x))}\")\n",
    "print(\"Valor de n con menos del 0.1% de error: \" + str(y_aprox))\n",
    "\n",
    "\n"
   ]
  },
  {
   "cell_type": "markdown",
   "metadata": {},
   "source": [
    "9. Diseñar una función que permita calcular una aproximación de la función seno alrededor de 0 para cualquier valor x (real), utilizando los primeros n términos de la serie de Maclaurin. Nota: use math para traer la función seno y mostrar la diferencia entre el valor real y la aproximación."
   ]
  },
  {
   "cell_type": "code",
   "execution_count": null,
   "metadata": {},
   "outputs": [],
   "source": [
    "import math\n",
    "\n",
    "#función para calcular la aproximación de la función seno \n",
    "def aprox_sen(x, n):\n",
    "    aprox = 0\n",
    "\n",
    "    for i in range(n):\n",
    "        termino = ((-1) ** i) * (x ** (2 * i + 1)) / math.factorial(2 * i + 1)\n",
    "        aprox += termino\n",
    "\n",
    "    valor = math.sin(x)\n",
    "    dif = abs(valor - aprox)\n",
    "    \n",
    "    return aprox, dif\n",
    "\n",
    "#función para obtener un error menor al 0.1%.\n",
    "def error_aceptable(x, error_maximo=0.001):\n",
    "    n = 0\n",
    "    error = error_maximo + 1  \n",
    "    while error > error_maximo:\n",
    "        n += 1\n",
    "        aproximacion, _ = aprox_sen(x, n)\n",
    "        error = abs(math.sin(x) - aproximacion)\n",
    "    return n\n",
    "\n",
    "#se pide que ingrese el valor de x \n",
    "x = float(input(\"Ingresa el valor de x: \"))\n",
    "error_maximo = 0.001\n",
    "\n",
    "#encontrar el valor de n necesario para cumplir con el error máximo.\n",
    "n_max = error_aceptable(x, error_maximo)\n",
    "\n",
    "#calcular la aproximación de sen(x) con n_max términos.\n",
    "aprox, dif = aprox_sen(x, n_max)\n",
    "\n",
    "#mostrar la respuesta\n",
    "print(f\"Para x = {x}, se necesita un mínimo de {n_max} para obtener menos del 0.1% de error.\")\n",
    "print(f\"Aproximación de sen({x}) con {n_max} términos: {aprox}\")\n",
    "print(f\"Diferencia con el valor real: {dif:.4f}\")\n"
   ]
  },
  {
   "cell_type": "markdown",
   "metadata": {},
   "source": [
    "10. Diseñar una función que permita calcular una aproximación de la función arcotangente alrededor de 0 para cualquier valor x en el rango [-1, 1], utilizando los primeros n términos de la serie de Maclaurin. Nota: use math para traer la función arctan y mostrar la diferencia entre el valor real y la aproximación.\n"
   ]
  },
  {
   "cell_type": "code",
   "execution_count": null,
   "metadata": {},
   "outputs": [],
   "source": [
    "import math\n",
    "\n",
    "#función para calcular la aproximación de la función arcotangente\n",
    "def aproxarctan(x, n):\n",
    "    if abs(x) >= 1:\n",
    "        raise ValueError(\"El valor de x debe estar en el rango [-1, 1].\")\n",
    "    \n",
    "    aproximacion = 0\n",
    "\n",
    "    for i in range(n):\n",
    "        termino = ((-1) ** i) * (x ** (2 * i + 1)) / (2 * i + 1)\n",
    "        aproximacion += termino\n",
    "\n",
    "    valor_real = math.atan(x)\n",
    "    diferencia = abs(valor_real - aproximacion)\n",
    "    \n",
    "    return aproximacion, diferencia\n",
    "\n",
    "#pedir que ingrese el valor de x en el rango [-1, 1] y el número de términos n.\n",
    "x = float(input(\"Ingresa el valor de x en el rango [-1, 1]: \"))\n",
    "n = int(input(\"Ingresa el número de términos n: \"))\n",
    "\n",
    "#si x esté dentro del rango permitido [-1, 1].\n",
    "if abs(x) > 1:\n",
    "    print(\"El valor de x está fuera del rango permitido.\")\n",
    "else:\n",
    "    #calcular la aproximación, la diferencia con el valor real e imprimir los resultados.\n",
    "    aproximacion, diferencia = aproxarctan(x, n)\n",
    "    print(f\"Aproximación de arctan({x}) con {n} términos: {aproximacion}\")\n",
    "    print(f\"Valor real de arctan({x}): {math.atan(x)}\")\n",
    "    print(f\"Diferencia con el valor real: {diferencia:.4f}\")\n"
   ]
  },
  {
   "cell_type": "markdown",
   "metadata": {},
   "source": [
    "Disclaimer: fue lo mejor que logre, sinceramente fueron algo complicados incluso en la parte logica :,D"
   ]
  }
 ],
 "metadata": {
  "language_info": {
   "name": "python"
  }
 },
 "nbformat": 4,
 "nbformat_minor": 2
}
